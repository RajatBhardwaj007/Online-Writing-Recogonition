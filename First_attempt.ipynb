{
 "cells": [
  {
   "cell_type": "code",
   "execution_count": 3,
   "metadata": {
    "scrolled": true
   },
   "outputs": [
    {
     "name": "stdout",
     "output_type": "stream",
     "text": [
      "Populating the interactive namespace from numpy and matplotlib\n"
     ]
    }
   ],
   "source": [
    "%pylab inline\n",
    "from scipy.optimize import curve_fit\n",
    "import scipy.interpolate as interpolate\n",
    "import pandas as pd\n",
    "import numpy as np\n",
    "import matplotlib.pyplot as plt\n",
    "%matplotlib inline"
   ]
  },
  {
   "cell_type": "code",
   "execution_count": 4,
   "metadata": {},
   "outputs": [],
   "source": [
    "def drawCurve(points , t):\n",
    "    if(len(points) == 1):\n",
    "        plt.plot(points[0])\n",
    "    else:\n",
    "        newpoints = []\n",
    "        for i in range(0,len(points) - 1):\n",
    "            x = (1-t) * points[i][0] + t * points[i+1][0]\n",
    "            y = (1-t) * points[i][1] + t * points[i+1][1]\n",
    "            poin = []\n",
    "            poin.append(x)\n",
    "            poin.append(y)\n",
    "            newpoints.append(poin)\n",
    "        drawCurve(newpoints, t)\n",
    "\n",
    "def get_bezier_coef(points):\n",
    "    # since the formulas work given that we have n+1 points\n",
    "    # then n must be this:\n",
    "    n = len(points) - 1\n",
    "\n",
    "    # build coefficents matrix\n",
    "    C = 4 * np.identity(n)\n",
    "    np.fill_diagonal(C[1:], 1)\n",
    "    np.fill_diagonal(C[:, 1:], 1)\n",
    "    C[0, 0] = 2\n",
    "    C[n - 1, n - 1] = 7\n",
    "    C[n - 1, n - 2] = 2\n",
    "    # build points vector\n",
    "    P = [2 * (2 * points[i] + points[i + 1]) for i in range(n)]\n",
    "    P[0] = points[0] + 2 * points[1]\n",
    "    P[n - 1] = 8 * points[n - 1] + points[n]\n",
    "\n",
    "    # solve system, find a & b\n",
    "    A = np.linalg.solve(C, P)\n",
    "    B = [0] * n\n",
    "    for i in range(n - 1):\n",
    "        B[i] = 2 * points[i + 1] - A[i + 1]\n",
    "    B[n - 1] = (A[n - 1] + points[n]) / 2\n",
    "\n",
    "    return A, B\n",
    "\n",
    "# returns the general Bezier cubic formula given 4 control points\n",
    "def get_cubic(a, b, c, d):\n",
    "    return lambda t: np.power(1 - t, 3) * a + 3 * np.power(1 - t, 2) * t * b + 3 * (1 - t) * np.power(t, 2) * c + np.power(t, 3) * d\n",
    "\n",
    "# return one cubic curve for each consecutive points\n",
    "def get_bezier_cubic(points):\n",
    "    A, B = get_bezier_coef(points)\n",
    "    return [\n",
    "        get_cubic(points[i], A[i], B[i], points[i + 1])\n",
    "        for i in range(len(points) - 1)\n",
    "    ]\n",
    "\n",
    "# evalute each cubic curve on the range [0, 1] sliced in n points\n",
    "def evaluate_bezier(points, n):\n",
    "    curves = get_bezier_cubic(points)\n",
    "    return np.array([fun(t) for fun in curves for t in np.linspace(0, 1, n)])"
   ]
  },
  {
   "cell_type": "code",
   "execution_count": 5,
   "metadata": {},
   "outputs": [
    {
     "data": {
      "image/png": "[encoded data removed]",
      "text/plain": [
       "<Figure size 432x288 with 1 Axes>"
      ]
     },
     "metadata": {
      "needs_background": "light"
     },
     "output_type": "display_data"
    }
   ],
   "source": [
    "dd = pd.read_excel(\"C:\\\\Users\\\\RAJAT BHARDWAJ\\\\Desktop\\\\project\\\\datafile.xls\")\n",
    "prev = 0;\n",
    "curr = 0;\n",
    "start = 0;\n",
    "time = 0;\n",
    "for i in dd.index:\n",
    "    if(dd.loc[i].X_value == '\\n'):\n",
    "        curr = i;\n",
    "        d1 = dd[prev:curr]\n",
    "        #rgb = (random.random(),random.random(),random.random())\n",
    "        #plt.plot(d1.X_value.astype(int),-1*d1.Y_value.astype(int),c=numpy.random.rand(3,))\n",
    "        prev = curr + 1\n",
    "        \n",
    "        points = []\n",
    "\n",
    "        x_points = []\n",
    "        x_points.append(d1.X_value.astype(int))\n",
    "        y_points = []\n",
    "        y_points.append(d1.Y_value.astype(int))\n",
    "        \n",
    "        length = prev\n",
    "        for j in range(start,length-1):\n",
    "            each = []\n",
    "            each.append(x_points[0][j])\n",
    "            each.append(y_points[0][j])\n",
    "            points.append(each)\n",
    "\n",
    "        poin = np.array(points)\n",
    "        path = evaluate_bezier(poin, 50)\n",
    "\n",
    "        # extract x & y coordinates of points\n",
    "        x, y = poin[:,0], poin[:,1]\n",
    "        px, py = path[:,0], path[:,1]\n",
    "\n",
    "        # plot\n",
    "        plt.plot(px, -1*py, 'b-')\n",
    "        plt.plot(x, -1*y, 'ro')\n",
    "        start = prev;\n",
    "        if(time == 4):\n",
    "            break\n",
    "        time = time + 1\n",
    "plt.show()"
   ]
  },
  {
   "cell_type": "code",
   "execution_count": null,
   "metadata": {},
   "outputs": [],
   "source": []
  }
 ],
 "metadata": {
  "kernelspec": {
   "display_name": "Python 3",
   "language": "python",
   "name": "python3"
  },
  "language_info": {
   "codemirror_mode": {
    "name": "ipython",
    "version": 3
   },
   "file_extension": ".py",
   "mimetype": "text/x-python",
   "name": "python",
   "nbconvert_exporter": "python",
   "pygments_lexer": "ipython3",
   "version": "3.7.6"
  }
 },
 "nbformat": 4,
 "nbformat_minor": 4
}
