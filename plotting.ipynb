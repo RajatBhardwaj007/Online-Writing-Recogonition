{
 "cells": [
  {
   "cell_type": "code",
   "execution_count": 1,
   "metadata": {},
   "outputs": [
    {
     "name": "stdout",
     "output_type": "stream",
     "text": [
      "Populating the interactive namespace from numpy and matplotlib\n"
     ]
    }
   ],
   "source": [
    "%pylab inline\n",
    "from scipy.optimize import curve_fit\n",
    "import pandas as pd\n",
    "import numpy as np\n",
    "import matplotlib.pyplot as plt\n",
    "%matplotlib inline"
   ]
  },
  {
   "cell_type": "code",
   "execution_count": 59,
   "metadata": {
    "scrolled": true
   },
   "outputs": [
    {
     "data": {
      "text/html": [
       "<div>\n",
       "<style scoped>\n",
       "    .dataframe tbody tr th:only-of-type {\n",
       "        vertical-align: middle;\n",
       "    }\n",
       "\n",
       "    .dataframe tbody tr th {\n",
       "        vertical-align: top;\n",
       "    }\n",
       "\n",
       "    .dataframe thead th {\n",
       "        text-align: right;\n",
       "    }\n",
       "</style>\n",
       "<table border=\"1\" class=\"dataframe\">\n",
       "  <thead>\n",
       "    <tr style=\"text-align: right;\">\n",
       "      <th></th>\n",
       "      <th>X_value</th>\n",
       "      <th>Y_value</th>\n",
       "      <th>Time</th>\n",
       "    </tr>\n",
       "  </thead>\n",
       "  <tbody>\n",
       "    <tr>\n",
       "      <th>189</th>\n",
       "      <td>2486</td>\n",
       "      <td>1140</td>\n",
       "      <td>773.58</td>\n",
       "    </tr>\n",
       "    <tr>\n",
       "      <th>190</th>\n",
       "      <td>2482</td>\n",
       "      <td>1138</td>\n",
       "      <td>773.60</td>\n",
       "    </tr>\n",
       "    <tr>\n",
       "      <th>191</th>\n",
       "      <td>2472</td>\n",
       "      <td>1140</td>\n",
       "      <td>773.62</td>\n",
       "    </tr>\n",
       "    <tr>\n",
       "      <th>192</th>\n",
       "      <td>2459</td>\n",
       "      <td>1143</td>\n",
       "      <td>773.63</td>\n",
       "    </tr>\n",
       "    <tr>\n",
       "      <th>193</th>\n",
       "      <td>2447</td>\n",
       "      <td>1146</td>\n",
       "      <td>773.65</td>\n",
       "    </tr>\n",
       "    <tr>\n",
       "      <th>194</th>\n",
       "      <td>2432</td>\n",
       "      <td>1148</td>\n",
       "      <td>773.66</td>\n",
       "    </tr>\n",
       "    <tr>\n",
       "      <th>195</th>\n",
       "      <td>2419</td>\n",
       "      <td>1152</td>\n",
       "      <td>773.68</td>\n",
       "    </tr>\n",
       "    <tr>\n",
       "      <th>196</th>\n",
       "      <td>2414</td>\n",
       "      <td>1158</td>\n",
       "      <td>773.69</td>\n",
       "    </tr>\n",
       "    <tr>\n",
       "      <th>197</th>\n",
       "      <td>2402</td>\n",
       "      <td>1160</td>\n",
       "      <td>773.71</td>\n",
       "    </tr>\n",
       "  </tbody>\n",
       "</table>\n",
       "</div>"
      ],
      "text/plain": [
       "    X_value Y_value    Time\n",
       "189    2486    1140  773.58\n",
       "190    2482    1138  773.60\n",
       "191    2472    1140  773.62\n",
       "192    2459    1143  773.63\n",
       "193    2447    1146  773.65\n",
       "194    2432    1148  773.66\n",
       "195    2419    1152  773.68\n",
       "196    2414    1158  773.69\n",
       "197    2402    1160  773.71"
      ]
     },
     "execution_count": 59,
     "metadata": {},
     "output_type": "execute_result"
    }
   ],
   "source": [
    "d = pd.read_excel(\"C:\\\\Users\\\\RAJAT BHARDWAJ\\\\Desktop\\\\project\\\\datafile.xls\")\n",
    "d1=d[0:40]\n",
    "d2=d[41:55]\n",
    "d3=d[56:107]\n",
    "d4=d[108:131]\n",
    "d5=d[132:157]\n",
    "d6=d[158:188]\n",
    "d7=d[189:198]\n"
   ]
  },
  {
   "cell_type": "code",
   "execution_count": 61,
   "metadata": {},
   "outputs": [
    {
     "data": {
      "image/png": "[encoded data removed]",
      "text/plain": [
       "<Figure size 432x288 with 1 Axes>"
      ]
     },
     "metadata": {
      "needs_background": "light"
     },
     "output_type": "display_data"
    }
   ],
   "source": [
    "plt.plot(d1.X_value.astype(int),-1*d1.Y_value.astype(int),'ro')\n",
    "plt.plot(d2.X_value.astype(int),-1*d2.Y_value.astype(int),'bo')\n",
    "plt.plot(d3.X_value.astype(int),-1*d3.Y_value.astype(int),'go')\n",
    "plt.plot(d4.X_value.astype(int),-1*d4.Y_value.astype(int),'yo')\n",
    "plt.plot(d5.X_value.astype(int),-1*d5.Y_value.astype(int),'ro')\n",
    "plt.plot(d6.X_value.astype(int),-1*d6.Y_value.astype(int),'ro')\n",
    "plt.plot(d7.X_value.astype(int),-1*d7.Y_value.astype(int),'ro')\n",
    "plt.show()"
   ]
  },
  {
   "cell_type": "code",
   "execution_count": null,
   "metadata": {},
   "outputs": [],
   "source": []
  }
 ],
 "metadata": {
  "kernelspec": {
   "display_name": "Python 3",
   "language": "python",
   "name": "python3"
  },
  "language_info": {
   "codemirror_mode": {
    "name": "ipython",
    "version": 3
   },
   "file_extension": ".py",
   "mimetype": "text/x-python",
   "name": "python",
   "nbconvert_exporter": "python",
   "pygments_lexer": "ipython3",
   "version": "3.7.6"
  }
 },
 "nbformat": 4,
 "nbformat_minor": 4
}
